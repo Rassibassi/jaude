{
 "cells": [
  {
   "cell_type": "code",
   "execution_count": 1,
   "metadata": {},
   "outputs": [
    {
     "name": "stderr",
     "output_type": "stream",
     "text": [
      "┌ Info: Recompiling stale cache file /home/rasmus/.julia/compiled/v1.0/Flux/QdkVy.ji for Flux [587475ba-b771-5e3f-ad9e-33799f191a9c]\n",
      "└ @ Base loading.jl:1190\n",
      "┌ Info: Recompiling stale cache file /home/rasmus/.julia/compiled/v1.0/Plots/ld3vC.ji for Plots [91a5bcdd-55d7-5caf-9e0b-520d859cae80]\n",
      "└ @ Base loading.jl:1190\n",
      "┌ Info: Recompiling stale cache file /home/rasmus/.julia/compiled/v1.0/PyPlot/oatAj.ji for PyPlot [d330b81b-6aea-500a-939a-2ce795aea3ee]\n",
      "└ @ Base loading.jl:1190\n"
     ]
    },
    {
     "data": {
      "text/plain": [
       "Plots.PyPlotBackend()"
      ]
     },
     "execution_count": 1,
     "metadata": {},
     "output_type": "execute_result"
    }
   ],
   "source": [
    "using Flux\n",
    "using Flux: @epochs, onehotbatch, throttle\n",
    "using Statistics: mean, var, std\n",
    "using Plots\n",
    "pyplot()"
   ]
  },
  {
   "cell_type": "code",
   "execution_count": 2,
   "metadata": {
    "collapsed": true
   },
   "outputs": [],
   "source": [
    "add_dim(x::Array) = reshape(x, (1,size(x)...));"
   ]
  },
  {
   "cell_type": "code",
   "execution_count": 3,
   "metadata": {
    "collapsed": true
   },
   "outputs": [],
   "source": [
    "TR = Float32;\n",
    "TC = ComplexF32;"
   ]
  },
  {
   "cell_type": "code",
   "execution_count": 4,
   "metadata": {
    "collapsed": true
   },
   "outputs": [],
   "source": [
    "M = 16;\n",
    "constellation_dim = 2;\n",
    "N = 32*M;\n",
    "SNR = 20;\n",
    "SNRlin = 10^(SNR/10) |> TR;"
   ]
  },
  {
   "cell_type": "code",
   "execution_count": 5,
   "metadata": {
    "collapsed": true
   },
   "outputs": [],
   "source": [
    "encoder = Chain(Dense(M, 32, Flux.relu), Dense(32, 32, Flux.relu), Dense(32, constellation_dim));\n",
    "decoder = Chain(Dense(constellation_dim, 32, Flux.relu), Dense(32, 32, Flux.relu), Dense(32, M));"
   ]
  },
  {
   "cell_type": "code",
   "execution_count": 6,
   "metadata": {},
   "outputs": [
    {
     "data": {
      "text/plain": [
       "model (generic function with 1 method)"
      ]
     },
     "execution_count": 6,
     "metadata": {},
     "output_type": "execute_result"
    }
   ],
   "source": [
    "function model(X)\n",
    "    X_seed = Flux.onehotbatch(1:M,1:M)\n",
    "    s_seed = encoder(X_seed)\n",
    "    s_seed = add_dim(s_seed[1,:] + 1im*s_seed[2,:])\n",
    "    norm_factor = sqrt(mean(abs.(s_seed).^2))\n",
    "    \n",
    "    s = encoder(X)\n",
    "    s = add_dim(s[1,:] + 1im*s[2,:]) / norm_factor\n",
    "    𝜎 = sqrt(1/SNRlin) |> TR\n",
    "    \n",
    "    r = s + 𝜎 * randn(TC, 1, N)\n",
    "    r = [real(r); imag(r)]\n",
    "    Y = decoder(r)\n",
    "    return Y\n",
    "end    "
   ]
  },
  {
   "cell_type": "code",
   "execution_count": 7,
   "metadata": {
    "collapsed": true
   },
   "outputs": [],
   "source": [
    "loss(X) = Flux.logitcrossentropy(model(X), X);"
   ]
  },
  {
   "cell_type": "code",
   "execution_count": 8,
   "metadata": {
    "collapsed": true
   },
   "outputs": [],
   "source": [
    "opt = ADAM(0.001);\n",
    "ps = params(encoder, decoder);"
   ]
  },
  {
   "cell_type": "code",
   "execution_count": 9,
   "metadata": {},
   "outputs": [
    {
     "name": "stderr",
     "output_type": "stream",
     "text": [
      "┌ Info: Epoch 1\n",
      "└ @ Main /home/rasmus/.julia/packages/Flux/dkJUV/src/optimise/train.jl:105\n"
     ]
    },
    {
     "ename": "UndefVarError",
     "evalue": "UndefVarError: data not defined",
     "output_type": "error",
     "traceback": [
      "UndefVarError: data not defined",
      "",
      "Stacktrace:",
      " [1] macro expansion at /home/rasmus/.julia/packages/Flux/dkJUV/src/optimise/train.jl:106 [inlined]",
      " [2] macro expansion at /home/rasmus/.julia/packages/Juno/oLB1d/src/progress.jl:134 [inlined]",
      " [3] top-level scope at ./In[9]:2 [inlined]",
      " [4] top-level scope at ./none:0"
     ]
    }
   ],
   "source": [
    "evalcb() = @show(loss(X));\n",
    "@epochs 200 Flux.train!(loss, ps, data, opt, cb = throttle(evalcb, 5));"
   ]
  },
  {
   "cell_type": "code",
   "execution_count": 10,
   "metadata": {},
   "outputs": [
    {
     "ename": "UndefVarError",
     "evalue": "UndefVarError: X not defined",
     "output_type": "error",
     "traceback": [
      "UndefVarError: X not defined",
      "",
      "Stacktrace:",
      " [1] top-level scope at In[10]:5"
     ]
    }
   ],
   "source": [
    "X_seed = Flux.onehotbatch(1:M,1:M)\n",
    "s_seed = encoder(X_seed)\n",
    "s_seed_cpx = add_dim(s_seed[1,:] + 1im*s_seed[2,:])\n",
    "norm_factor = sqrt(mean(abs.(s_seed_cpx).^2))\n",
    "\n",
    "s = encoder(X)\n",
    "s = add_dim(s[1,:] + 1im*s[2,:]) / norm_factor\n",
    "𝜎 = sqrt(1/SNRlin) |> TR\n",
    "\n",
    "r = s + 𝜎 * randn(TC, 1, N)\n",
    "r = [real(r); imag(r)]"
   ]
  },
  {
   "cell_type": "code",
   "execution_count": 11,
   "metadata": {},
   "outputs": [
    {
     "ename": "UndefVarError",
     "evalue": "UndefVarError: s not defined",
     "output_type": "error",
     "traceback": [
      "UndefVarError: s not defined",
      "",
      "Stacktrace:",
      " [1] top-level scope at In[11]:1"
     ]
    }
   ],
   "source": [
    "mean(abs.(s).^2)"
   ]
  },
  {
   "cell_type": "code",
   "execution_count": 12,
   "metadata": {},
   "outputs": [
    {
     "data": {
      "image/png": "[encoded data removed]"
     },
     "execution_count": 12,
     "metadata": {},
     "output_type": "execute_result"
    }
   ],
   "source": [
    "scatter(Flux.Tracker.data(s_seed[1,:]),Flux.Tracker.data(s_seed[2,:]), markershape = :hexagon)"
   ]
  },
  {
   "cell_type": "code",
   "execution_count": 13,
   "metadata": {},
   "outputs": [
    {
     "ename": "UndefVarError",
     "evalue": "UndefVarError: r not defined",
     "output_type": "error",
     "traceback": [
      "UndefVarError: r not defined",
      "",
      "Stacktrace:",
      " [1] top-level scope at In[13]:1"
     ]
    }
   ],
   "source": [
    "scatter(Flux.Tracker.data(r[1,:]),Flux.Tracker.data(r[2,:]), markershape = :hexagon)"
   ]
  }
 ],
 "metadata": {
  "kernelspec": {
   "display_name": "Julia 1.0.3",
   "language": "julia",
   "name": "julia-1.0"
  },
  "language_info": {
   "file_extension": ".jl",
   "mimetype": "application/julia",
   "name": "julia",
   "version": "1.0.3"
  }
 },
 "nbformat": 4,
 "nbformat_minor": 2
}
